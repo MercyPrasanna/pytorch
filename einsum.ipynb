{
 "cells": [
  {
   "cell_type": "code",
   "execution_count": 1,
   "metadata": {},
   "outputs": [],
   "source": [
    "import torch "
   ]
  },
  {
   "cell_type": "code",
   "execution_count": 3,
   "metadata": {},
   "outputs": [
    {
     "data": {
      "text/plain": [
       "tensor([[0.0043, 0.4154, 0.4813],\n",
       "        [0.1677, 0.3457, 0.4853]])"
      ]
     },
     "execution_count": 3,
     "metadata": {},
     "output_type": "execute_result"
    }
   ],
   "source": [
    "x = torch.rand(2,3)\n",
    "x"
   ]
  },
  {
   "cell_type": "code",
   "execution_count": 5,
   "metadata": {},
   "outputs": [
    {
     "data": {
      "text/plain": [
       "torch.Size([3, 2])"
      ]
     },
     "execution_count": 5,
     "metadata": {},
     "output_type": "execute_result"
    }
   ],
   "source": [
    "#permutation\n",
    "x_p = torch.einsum(\"ij->ji\", x)\n",
    "x_p.shape"
   ]
  },
  {
   "cell_type": "code",
   "execution_count": 6,
   "metadata": {},
   "outputs": [
    {
     "data": {
      "text/plain": [
       "tensor(1.8996)"
      ]
     },
     "execution_count": 6,
     "metadata": {},
     "output_type": "execute_result"
    }
   ],
   "source": [
    "#summation\n",
    "x_s = torch.einsum(\"ij->\", x)\n",
    "x_s"
   ]
  },
  {
   "cell_type": "code",
   "execution_count": 11,
   "metadata": {},
   "outputs": [
    {
     "data": {
      "text/plain": [
       "tensor([0.9010, 0.9987])"
      ]
     },
     "execution_count": 11,
     "metadata": {},
     "output_type": "execute_result"
    }
   ],
   "source": [
    "#row sum\n",
    "x_rs = torch.einsum(\"ij->i\", x)\n",
    "x_rs"
   ]
  },
  {
   "cell_type": "code",
   "execution_count": 12,
   "metadata": {},
   "outputs": [
    {
     "data": {
      "text/plain": [
       "tensor([0.1719, 0.7611, 0.9666])"
      ]
     },
     "execution_count": 12,
     "metadata": {},
     "output_type": "execute_result"
    }
   ],
   "source": [
    "#col sum\n",
    "x_cs = torch.einsum(\"ij->j\", x)\n",
    "x_cs"
   ]
  },
  {
   "cell_type": "code",
   "execution_count": 14,
   "metadata": {},
   "outputs": [
    {
     "data": {
      "text/plain": [
       "tensor([[0.3184],\n",
       "        [0.3024]])"
      ]
     },
     "execution_count": 14,
     "metadata": {},
     "output_type": "execute_result"
    }
   ],
   "source": [
    "# matrix vector multiplication\n",
    "v = torch.rand(1, 3)\n",
    "x_mv = torch.einsum(\"ij, kj->ik\", x, v)\n",
    "x_mv"
   ]
  },
  {
   "cell_type": "code",
   "execution_count": 15,
   "metadata": {},
   "outputs": [
    {
     "data": {
      "text/plain": [
       "tensor([[0.4042, 0.3779],\n",
       "        [0.3779, 0.3832]])"
      ]
     },
     "execution_count": 15,
     "metadata": {},
     "output_type": "execute_result"
    }
   ],
   "source": [
    "# matrix matrix multiplication\n",
    "x_mm = torch.einsum(\"ij, kj -> ik\", x, x)\n",
    "x_mm"
   ]
  },
  {
   "cell_type": "code",
   "execution_count": 16,
   "metadata": {},
   "outputs": [
    {
     "data": {
      "text/plain": [
       "tensor(0.4042)"
      ]
     },
     "execution_count": 16,
     "metadata": {},
     "output_type": "execute_result"
    }
   ],
   "source": [
    "# Dot product first row of a matrix\n",
    "x_dp = torch.einsum(\"i,i->\", x[0], x[0])\n",
    "x_dp"
   ]
  },
  {
   "cell_type": "code",
   "execution_count": 29,
   "metadata": {},
   "outputs": [
    {
     "data": {
      "text/plain": [
       "tensor(0.7874)"
      ]
     },
     "execution_count": 29,
     "metadata": {},
     "output_type": "execute_result"
    }
   ],
   "source": [
    "# Dot product of matrix\n",
    "x_dp = torch.einsum(\"ij, ij -> \", x, x)\n",
    "x_dp"
   ]
  },
  {
   "cell_type": "code",
   "execution_count": 38,
   "metadata": {},
   "outputs": [
    {
     "data": {
      "text/plain": [
       "tensor(0.7874)"
      ]
     },
     "execution_count": 38,
     "metadata": {},
     "output_type": "execute_result"
    }
   ],
   "source": [
    "# dot product of a matrix\n",
    "total = 0\n",
    "for i in range(len(x)):\n",
    "    for j in range(len(x[0])):\n",
    "        total += x[i][j] * x[i][j] \n",
    "total"
   ]
  },
  {
   "cell_type": "code",
   "execution_count": 40,
   "metadata": {},
   "outputs": [
    {
     "data": {
      "text/plain": [
       "tensor([[1.8183e-05, 1.7253e-01, 2.3168e-01],\n",
       "        [2.8110e-02, 1.1951e-01, 2.3553e-01]])"
      ]
     },
     "execution_count": 40,
     "metadata": {},
     "output_type": "execute_result"
    }
   ],
   "source": [
    "# Hadamard product (element wise multiplication)\n",
    "x_hp = torch.einsum(\"ij,ij->ij\", x, x)\n",
    "x_hp"
   ]
  },
  {
   "cell_type": "code",
   "execution_count": 46,
   "metadata": {},
   "outputs": [],
   "source": [
    "# outer product\n",
    "a = torch.rand(3)\n",
    "b = torch.rand(5)"
   ]
  },
  {
   "cell_type": "code",
   "execution_count": 47,
   "metadata": {},
   "outputs": [
    {
     "data": {
      "text/plain": [
       "tensor([[0.0846, 0.1276, 0.1738, 0.1005, 0.3272],\n",
       "        [0.0099, 0.0150, 0.0204, 0.0118, 0.0384],\n",
       "        [0.1187, 0.1791, 0.2439, 0.1411, 0.4594]])"
      ]
     },
     "execution_count": 47,
     "metadata": {},
     "output_type": "execute_result"
    }
   ],
   "source": [
    "\n",
    "\n",
    "x_op = torch.einsum(\"i,j->ij\", a, b)\n",
    "x_op"
   ]
  },
  {
   "cell_type": "code",
   "execution_count": 51,
   "metadata": {},
   "outputs": [
    {
     "data": {
      "text/plain": [
       "tensor([[0.0846, 0.1276, 0.1738, 0.1005, 0.3272],\n",
       "        [0.0099, 0.0150, 0.0204, 0.0118, 0.0384],\n",
       "        [0.1187, 0.1791, 0.2439, 0.1411, 0.4594]])"
      ]
     },
     "execution_count": 51,
     "metadata": {},
     "output_type": "execute_result"
    }
   ],
   "source": [
    "# cross roduct of 2 vectors\n",
    "test = torch.empty((3, 5))\n",
    "for i in range(len(a)):\n",
    "    for j in range(len(b)):\n",
    "        test[i,j] = a[i] * b[j] \n",
    "    \n",
    "test\n"
   ]
  },
  {
   "cell_type": "code",
   "execution_count": 53,
   "metadata": {},
   "outputs": [
    {
     "data": {
      "text/plain": [
       "torch.Size([3, 2, 3])"
      ]
     },
     "execution_count": 53,
     "metadata": {},
     "output_type": "execute_result"
    }
   ],
   "source": [
    "# Batch Matrix Mutiplication\n",
    "\n",
    "a = torch.rand((3, 2, 5))\n",
    "b = torch.rand((3, 5, 3))\n",
    "\n",
    "x_bmm = torch.einsum(\"ijk,ikl->ijl\", a, b)\n",
    "x_bmm.shape"
   ]
  },
  {
   "cell_type": "code",
   "execution_count": 55,
   "metadata": {},
   "outputs": [
    {
     "name": "stdout",
     "output_type": "stream",
     "text": [
      "tensor([[0.5594, 0.9447, 0.9372],\n",
      "        [0.2321, 0.0884, 0.9172],\n",
      "        [0.3127, 0.8367, 0.4913]])\n"
     ]
    },
    {
     "data": {
      "text/plain": [
       "tensor([0.5594, 0.0884, 0.4913])"
      ]
     },
     "execution_count": 55,
     "metadata": {},
     "output_type": "execute_result"
    }
   ],
   "source": [
    "# Matrix Diagonal\n",
    "x = torch.rand(3,3)\n",
    "print(x)\n",
    "x_diag = torch.einsum(\"ii->i\", x)\n",
    "x_diag"
   ]
  },
  {
   "cell_type": "code",
   "execution_count": 56,
   "metadata": {},
   "outputs": [
    {
     "data": {
      "text/plain": [
       "tensor(1.1392)"
      ]
     },
     "execution_count": 56,
     "metadata": {},
     "output_type": "execute_result"
    }
   ],
   "source": [
    "# Matrix trace\n",
    "x_trace = torch.einsum(\"ii->\", x)\n",
    "x_trace\n"
   ]
  }
 ],
 "metadata": {
  "interpreter": {
   "hash": "35931fab9f5987d4a753d77cdc21e668fb0733d32484fa330794a4c7569b276d"
  },
  "kernelspec": {
   "display_name": "Python 3.9.7 ('deeplearning')",
   "language": "python",
   "name": "python3"
  },
  "language_info": {
   "codemirror_mode": {
    "name": "ipython",
    "version": 3
   },
   "file_extension": ".py",
   "mimetype": "text/x-python",
   "name": "python",
   "nbconvert_exporter": "python",
   "pygments_lexer": "ipython3",
   "version": "3.9.7"
  },
  "orig_nbformat": 4
 },
 "nbformat": 4,
 "nbformat_minor": 2
}
